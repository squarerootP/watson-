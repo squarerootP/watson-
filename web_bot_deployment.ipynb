{
  "cells": [
    {
      "cell_type": "markdown",
      "metadata": {
        "id": "7Ard3CZiuj3W"
      },
      "source": [
        "LAB4: Deloy IBM assistance (chatbot) hỗ trợ tư vấn học đường lên web app (sử dụng colab + Flask + API IBM) + Kết nối database DB2 IBM thêm xoá danh sách sinh viên. Deadline 22/10 demo trực tiếp (submit code) @All"
      ]
    },
    {
      "cell_type": "code",
      "execution_count": null,
      "metadata": {
        "colab": {
          "base_uri": "https://localhost:8080/"
        },
        "id": "UDbJS66w1XJp",
        "outputId": "d05a126e-7eb6-4c70-8e79-b20f11198b01"
      },
      "outputs": [
        {
          "output_type": "stream",
          "name": "stdout",
          "text": [
            "Requirement already satisfied: ibm_db in /usr/local/lib/python3.10/dist-packages (3.2.3)\n"
          ]
        }
      ],
      "source": [
        "!pip install ibm_db"
      ]
    },
    {
      "cell_type": "code",
      "execution_count": null,
      "metadata": {
        "id": "nNLUwJ9D1ZPw"
      },
      "outputs": [],
      "source": [
        "import ibm_db\n",
        "import os\n",
        "import pandas as pd\n",
        "\n",
        "# Set your IBM Db2 credentials in the environment variables or manually assign them in the code below.\n",
        "dsn_hostname = os.getenv('DB_HOST', 'null-5da9-48a9-81f8-86b520b87518.bs2io90l08kqb1od8lcg.databases.appdomain.cloud') # change this\n",
        "dsn_uid = os.getenv('DB_UID', 'null')  # change this\n",
        "dsn_pwd = os.getenv('DB_PWD', 'null')  # change this\n",
        "dsn_port = os.getenv('DB_PORT', 'null')  # change this\n",
        "dsn_database = \"bludb\"  # change if necessary\n",
        "dsn_driver = \"{IBM DB2 ODBC DRIVER}\"\n",
        "dsn_protocol = \"TCPIP\"\n",
        "dsn_security = \"SSL\"\n",
        "\n",
        "# $env:HOST_URL = \"0c77d6f2-5da9-48a9-81f8-86b520b87518.bs2io90l08kqb1od8lcg.databases.appdomain.cloud\"\n",
        "# $env:USERNAME = \"lyf46748\"\n",
        "# $env:PASSWORD = \"FCMsRoJTA7TZ1SYx\"\n",
        "# $env:PORT = \"31198\"\n",
        "# Create the dsn connection string\n",
        "dsn = (\n",
        "    \"DRIVER={0};\"\n",
        "    \"DATABASE={1};\"\n",
        "    \"HOSTNAME={2};\"\n",
        "    \"PORT={3};\"\n",
        "    \"PROTOCOL={4};\"\n",
        "    \"UID={5};\"\n",
        "    \"PWD={6};\"\n",
        "    \"SECURITY={7};\").format(dsn_driver, dsn_database, dsn_hostname, dsn_port, dsn_protocol, dsn_uid, dsn_pwd, dsn_security)\n",
        "\n",
        "\n"
      ]
    },
    {
      "cell_type": "code",
      "execution_count": null,
      "metadata": {
        "id": "LIVr3fFBhxse"
      },
      "outputs": [],
      "source": [
        "def get_data():\n",
        "  try:\n",
        "      conn = ibm_db.connect(dsn, \"\", \"\")\n",
        "      print(\"Connected to database: \", dsn_database, \"as user: \", dsn_uid, \"on host: \", dsn_hostname)\n",
        "\n",
        "      # Query to get the first 5 rows from the table\n",
        "      command = \"Select * from hello\"\n",
        "\n",
        "      stmt = ibm_db.exec_immediate(conn, command)\n",
        "\n",
        "      # Fetch the result set\n",
        "      result = ibm_db.fetch_both(stmt)\n",
        "      rows = []\n",
        "\n",
        "      # Loop through the result and fetch the rows\n",
        "      while result:\n",
        "          rows.append(result)\n",
        "          result = ibm_db.fetch_both(stmt)\n",
        "\n",
        "      # Convert result to a pandas DataFrame for better readability\n",
        "      df = pd.DataFrame(rows)\n",
        "      return df\n",
        "  except Exception as e:\n",
        "      print(\"Error connecting to the database: \", str(e))\n",
        "  finally:\n",
        "      # Close the connection\n",
        "      if conn:\n",
        "          ibm_db.close(conn)"
      ]
    },
    {
      "cell_type": "code",
      "execution_count": null,
      "metadata": {
        "id": "7L4oAX2Ykq-G"
      },
      "outputs": [],
      "source": [
        "def filter_data():\n",
        "  data = get_data()\n",
        "  data1 = data.loc[:, ['Tên Sinh Viên', 'Ngày Sinh', 'Mã Số', 'Chuyên Ngành']]\n",
        "  return data1"
      ]
    },
    {
      "cell_type": "code",
      "execution_count": null,
      "metadata": {
        "id": "9daRLkPrmk-V"
      },
      "outputs": [],
      "source": [
        "import ibm_db\n",
        "\n",
        "# Function to add a new student to the database\n",
        "def add_student(id, name, major, birthday):\n",
        "    conn = None\n",
        "    try:\n",
        "        conn = ibm_db.connect(dsn, \"\", \"\")\n",
        "        print(f\"Connected to database: {dsn_database} as user: {dsn_uid} on host: {dsn_hostname}\")\n",
        "\n",
        "        # Use parameterized queries to prevent SQL injection\n",
        "        sql = 'INSERT INTO hello (\\\"Tên Sinh Viên\\\", \\\"Ngày Sinh\\\", \\\"Mã Số\\\", \\\"Chuyên Ngành\\\") VALUES (?, ?, ?, ?)'\n",
        "        stmt = ibm_db.prepare(conn, sql)\n",
        "\n",
        "        # Bind parameters\n",
        "        ibm_db.bind_param(stmt, 1, name)\n",
        "        ibm_db.bind_param(stmt, 2, birthday)\n",
        "        ibm_db.bind_param(stmt, 3, id)\n",
        "        ibm_db.bind_param(stmt, 4, major)\n",
        "\n",
        "        # Execute the statement\n",
        "        ibm_db.execute(stmt)\n",
        "        print(\"Student added successfully!\")\n",
        "\n",
        "    except Exception as e:\n",
        "        print(\"Error adding student to the database:\", str(e))\n",
        "\n",
        "    finally:\n",
        "        if conn:\n",
        "            try:\n",
        "                ibm_db.close(conn)\n",
        "            except Exception as e:\n",
        "                print(\"Error closing the database connection:\", str(e))\n",
        "\n",
        "\n",
        "# Function to delete a student from the database by ID\n",
        "def delete_student(id):\n",
        "    try:\n",
        "        conn = ibm_db.connect(dsn, \"\", \"\")\n",
        "        print(f\"Connected to database: {dsn_database} as user: {dsn_uid} on host: {dsn_hostname}\")\n",
        "\n",
        "        # Use parameterized queries to prevent SQL injection\n",
        "        sql = \"DELETE FROM hello WHERE \\\"Mã Số\\\" = ?\"\n",
        "        stmt = ibm_db.prepare(conn, sql)\n",
        "\n",
        "        # Bind the parameter\n",
        "        ibm_db.bind_param(stmt, 1, id)\n",
        "\n",
        "        # Execute the statement\n",
        "        ibm_db.execute(stmt)\n",
        "        print(\"Student deleted successfully!\")\n",
        "\n",
        "    except Exception as e:\n",
        "        print(\"Error deleting student from the database:\", str(e))\n",
        "    finally:\n",
        "        if conn:\n",
        "            ibm_db.close(conn)\n"
      ]
    },
    {
      "cell_type": "code",
      "execution_count": null,
      "metadata": {
        "colab": {
          "base_uri": "https://localhost:8080/",
          "height": 35
        },
        "id": "ImLH725jZ7L6",
        "outputId": "5426b544-449f-4960-b64a-bcadace2f11c"
      },
      "outputs": [
        {
          "output_type": "stream",
          "name": "stdout",
          "text": [
            "https://0lwv7swztnh-496ff2e9c6d22116-5000-colab.googleusercontent.com/\n"
          ]
        }
      ],
      "source": [
        "from google.colab.output import eval_js\n",
        "print(eval_js(\"google.colab.kernel.proxyPort(5000)\"))"
      ]
    },
    {
      "cell_type": "code",
      "execution_count": null,
      "metadata": {
        "colab": {
          "base_uri": "https://localhost:8080/"
        },
        "id": "8sEzYZ0gaCWh",
        "outputId": "3932170f-67c8-459f-9e3c-0a30288c2620"
      },
      "outputs": [
        {
          "output_type": "stream",
          "name": "stdout",
          "text": [
            " * Serving Flask app '__main__'\n",
            " * Debug mode: off\n"
          ]
        },
        {
          "output_type": "stream",
          "name": "stderr",
          "text": [
            "INFO:werkzeug:\u001b[31m\u001b[1mWARNING: This is a development server. Do not use it in a production deployment. Use a production WSGI server instead.\u001b[0m\n",
            " * Running on http://127.0.0.1:5000\n",
            "INFO:werkzeug:\u001b[33mPress CTRL+C to quit\u001b[0m\n"
          ]
        },
        {
          "output_type": "stream",
          "name": "stdout",
          "text": [
            "Connected to database:  bludb as user:  lyf46748 on host:  0c77d6f2-5da9-48a9-81f8-86b520b87518.bs2io90l08kqb1od8lcg.databases.appdomain.cloud\n"
          ]
        },
        {
          "output_type": "stream",
          "name": "stderr",
          "text": [
            "INFO:werkzeug:127.0.0.1 - - [24/Oct/2024 01:24:13] \"GET /?authuser=0 HTTP/1.1\" 200 -\n",
            "INFO:werkzeug:127.0.0.1 - - [24/Oct/2024 01:24:15] \"\u001b[33mGET /favicon.ico?authuser=0 HTTP/1.1\u001b[0m\" 404 -\n"
          ]
        },
        {
          "output_type": "stream",
          "name": "stdout",
          "text": [
            "Connected to database: bludb as user: lyf46748 on host: 0c77d6f2-5da9-48a9-81f8-86b520b87518.bs2io90l08kqb1od8lcg.databases.appdomain.cloud\n",
            "Student deleted successfully!\n",
            "Connected to database:  bludb as user:  lyf46748 on host:  0c77d6f2-5da9-48a9-81f8-86b520b87518.bs2io90l08kqb1od8lcg.databases.appdomain.cloud\n"
          ]
        },
        {
          "output_type": "stream",
          "name": "stderr",
          "text": [
            "INFO:werkzeug:127.0.0.1 - - [24/Oct/2024 01:25:20] \"POST /?authuser=0 HTTP/1.1\" 200 -\n",
            "INFO:werkzeug:127.0.0.1 - - [24/Oct/2024 01:25:21] \"\u001b[33mGET /favicon.ico?authuser=0 HTTP/1.1\u001b[0m\" 404 -\n"
          ]
        },
        {
          "output_type": "stream",
          "name": "stdout",
          "text": [
            "Connected to database: bludb as user: lyf46748 on host: 0c77d6f2-5da9-48a9-81f8-86b520b87518.bs2io90l08kqb1od8lcg.databases.appdomain.cloud\n",
            "Error adding student to the database: Statement Execute Failed: [IBM][CLI Driver] CLI0109E  String data right truncation. SQLSTATE=22001 SQLCODE=-99999\n",
            "Connected to database:  bludb as user:  lyf46748 on host:  0c77d6f2-5da9-48a9-81f8-86b520b87518.bs2io90l08kqb1od8lcg.databases.appdomain.cloud\n"
          ]
        },
        {
          "output_type": "stream",
          "name": "stderr",
          "text": [
            "INFO:werkzeug:127.0.0.1 - - [24/Oct/2024 01:26:03] \"POST /?authuser=0 HTTP/1.1\" 200 -\n",
            "INFO:werkzeug:127.0.0.1 - - [24/Oct/2024 01:26:04] \"\u001b[33mGET /favicon.ico?authuser=0 HTTP/1.1\u001b[0m\" 404 -\n"
          ]
        },
        {
          "output_type": "stream",
          "name": "stdout",
          "text": [
            "Connected to database: bludb as user: lyf46748 on host: 0c77d6f2-5da9-48a9-81f8-86b520b87518.bs2io90l08kqb1od8lcg.databases.appdomain.cloud\n",
            "Student added successfully!\n",
            "Connected to database:  bludb as user:  lyf46748 on host:  0c77d6f2-5da9-48a9-81f8-86b520b87518.bs2io90l08kqb1od8lcg.databases.appdomain.cloud\n"
          ]
        },
        {
          "output_type": "stream",
          "name": "stderr",
          "text": [
            "INFO:werkzeug:127.0.0.1 - - [24/Oct/2024 01:27:07] \"POST /?authuser=0 HTTP/1.1\" 200 -\n",
            "INFO:werkzeug:127.0.0.1 - - [24/Oct/2024 01:27:08] \"\u001b[33mGET /favicon.ico?authuser=0 HTTP/1.1\u001b[0m\" 404 -\n"
          ]
        }
      ],
      "source": [
        "from flask import Flask, request, render_template_string, redirect, url_for\n",
        "\n",
        "app = Flask(__name__)\n",
        "\n",
        "@app.route('/', methods=['GET', 'POST'])\n",
        "def hello():\n",
        "    # Handle form submission for adding or deleting a student\n",
        "    if request.method == 'POST':\n",
        "        if 'add_student' in request.form:\n",
        "            # Get data from the add student form\n",
        "            id = request.form['id']\n",
        "            name = request.form['name']\n",
        "            major = request.form['major']\n",
        "            birthday = request.form['birthday']\n",
        "            # Add the student to the database\n",
        "            add_student(id, name, major, birthday)\n",
        "        elif 'delete_student' in request.form:\n",
        "            # Get the ID from the delete student form\n",
        "            id = request.form['delete_id']\n",
        "            # Delete the student from the database\n",
        "            delete_student(id)\n",
        "\n",
        "        # Redirect to avoid form resubmission on refresh\n",
        "        # return redirect(url_for('hello'))\n",
        "\n",
        "    # Get the updated DataFrame\n",
        "    df = filter_data()\n",
        "    df_html = df.to_html(classes='dataframe', index=False)\n",
        "\n",
        "    # HTML content with forms for adding and deleting students\n",
        "    html_content = '''\n",
        "    <!DOCTYPE html>\n",
        "    <html lang=\"en\">\n",
        "    <head>\n",
        "        <meta charset=\"UTF-8\">\n",
        "        <meta name=\"viewport\" content=\"width=device-width, initial-scale=1.0\">\n",
        "        <title>Manage Students</title>\n",
        "        <link href=\"https://fonts.googleapis.com/css2?family=Roboto:wght@400;500&display=swap\" rel=\"stylesheet\">\n",
        "        <style>\n",
        "            body {\n",
        "                font-family: 'Roboto', sans-serif;\n",
        "                background-color: #f4f6f9;\n",
        "                color: #333;\n",
        "                margin: 0;\n",
        "                padding: 0;\n",
        "            }\n",
        "            h1, h2 {\n",
        "                text-align: center;\n",
        "                margin-top: 20px;\n",
        "                color: #333;\n",
        "            }\n",
        "            table.dataframe {\n",
        "                width: 80%;\n",
        "                margin: 20px auto;\n",
        "                border-collapse: collapse;\n",
        "                background-color: #fff;\n",
        "                box-shadow: 0 2px 5px rgba(0, 0, 0, 0.1);\n",
        "            }\n",
        "            table.dataframe, table.dataframe th, table.dataframe td {\n",
        "                border: 1px solid #ddd;\n",
        "            }\n",
        "            table.dataframe th, table.dataframe td {\n",
        "                padding: 10px;\n",
        "                text-align: center;\n",
        "            }\n",
        "            table.dataframe th {\n",
        "                background-color: #f2f2f2;\n",
        "                font-weight: bold;\n",
        "            }\n",
        "            table.dataframe tr:hover {\n",
        "                background-color: #f5f5f5;\n",
        "            }\n",
        "            .form-container {\n",
        "                width: 50%;\n",
        "                margin: 20px auto;\n",
        "                padding: 20px;\n",
        "                background-color: #fff;\n",
        "                border-radius: 8px;\n",
        "                box-shadow: 0 2px 5px rgba(0, 0, 0, 0.1);\n",
        "            }\n",
        "            .form-container form {\n",
        "                display: flex;\n",
        "                flex-direction: column;\n",
        "            }\n",
        "            .form-container input[type=\"text\"],\n",
        "            .form-container input[type=\"date\"] {\n",
        "                padding: 10px;\n",
        "                margin-bottom: 15px;\n",
        "                border: 1px solid #ccc;\n",
        "                border-radius: 4px;\n",
        "                font-size: 16px;\n",
        "            }\n",
        "            .form-container button {\n",
        "                padding: 10px;\n",
        "                background-color: #007bff;\n",
        "                color: white;\n",
        "                border: none;\n",
        "                border-radius: 4px;\n",
        "                font-size: 16px;\n",
        "                cursor: pointer;\n",
        "                transition: background-color 0.3s;\n",
        "            }\n",
        "            .form-container button:hover {\n",
        "                background-color: #0056b3;\n",
        "            }\n",
        "            .form-container label {\n",
        "                font-weight: 500;\n",
        "                margin-bottom: 5px;\n",
        "                color: #555;\n",
        "            }\n",
        "        </style>\n",
        "    </head>\n",
        "    <body>\n",
        "        <h1>Manage Students</h1>\n",
        "\n",
        "        <!-- Display the DataFrame as an HTML table -->\n",
        "        <div>\n",
        "            {{ table | safe }}\n",
        "        </div>\n",
        "\n",
        "        <!-- Form to add a student -->\n",
        "        <div class=\"form-container\">\n",
        "            <h2>Add Student</h2>\n",
        "            <form method=\"POST\">\n",
        "                <label for=\"id\">ID:</label>\n",
        "                <input type=\"text\" id=\"id\" name=\"id\" required>\n",
        "\n",
        "                <label for=\"name\">Name:</label>\n",
        "                <input type=\"text\" id=\"name\" name=\"name\" required>\n",
        "\n",
        "                <label for=\"major\">Major:</label>\n",
        "                <input type=\"text\" id=\"major\" name=\"major\" required>\n",
        "\n",
        "                <label for=\"birthday\">Birthday:</label>\n",
        "                <input type=\"date\" id=\"birthday\" name=\"birthday\" required>\n",
        "\n",
        "                <button type=\"submit\" name=\"add_student\">Add Student</button>\n",
        "            </form>\n",
        "        </div>\n",
        "\n",
        "        <!-- Form to delete a student -->\n",
        "        <div class=\"form-container\">\n",
        "            <h2>Delete Student</h2>\n",
        "            <form method=\"POST\">\n",
        "                <label for=\"delete_id\">ID:</label>\n",
        "                <input type=\"text\" id=\"delete_id\" name=\"delete_id\" required>\n",
        "                <button type=\"submit\" name=\"delete_student\">Delete Student</button>\n",
        "            </form>\n",
        "        </div>\n",
        "\n",
        "        <!-- Watson Assistant Chat Script -->\n",
        "        <script>\n",
        "          window.watsonAssistantChatOptions = {\n",
        "            integrationID: \"null-5164-4400-8ae5-16224be6d559\", // The ID of this integration.\n",
        "            region: \"au-syd\", // The region your integration is hosted in.\n",
        "            serviceInstanceID: \"null-f6a6-4e50-a512-72a14329ef9e\", // The ID of your service instance.\n",
        "            onLoad: async (instance) => { await instance.render(); }\n",
        "          };\n",
        "          setTimeout(function(){\n",
        "            const t=document.createElement('script');\n",
        "            t.src=\"https://web-chat.global.assistant.watson.appdomain.cloud/versions/\" +\n",
        "            (window.watsonAssistantChatOptions.clientVersion || 'latest') + \"/WatsonAssistantChatEntry.js\";\n",
        "            document.head.appendChild(t);\n",
        "          });\n",
        "        </script>\n",
        "    </body>\n",
        "    </html>\n",
        "    '''\n",
        "    return render_template_string(html_content, table=df_html)\n",
        "\n",
        "if __name__ == '__main__':\n",
        "    app.run(port=5000)\n"
      ]
    }
  ],
  "metadata": {
    "colab": {
      "provenance": []
    },
    "kernelspec": {
      "display_name": "Python 3",
      "name": "python3"
    },
    "language_info": {
      "name": "python"
    }
  },
  "nbformat": 4,
  "nbformat_minor": 0
}